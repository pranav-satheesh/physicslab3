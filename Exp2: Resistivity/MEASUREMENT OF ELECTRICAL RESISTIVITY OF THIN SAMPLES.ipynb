{
 "cells": [
  {
   "cell_type": "code",
   "execution_count": 1,
   "metadata": {},
   "outputs": [],
   "source": [
    "import pandas as pd\n",
    "import numpy as np\n",
    "import matplotlib.pyplot as plt\n"
   ]
  },
  {
   "cell_type": "code",
   "execution_count": 2,
   "metadata": {},
   "outputs": [],
   "source": [
    "Readdata = pd.read_excel('Electrical Resistivity Data.xlsx',skiprows=2)"
   ]
  },
  {
   "cell_type": "code",
   "execution_count": 3,
   "metadata": {},
   "outputs": [],
   "source": [
    "Temp = Readdata.iloc[:,1].values #oC\n",
    "V = Readdata.iloc[:,2].values #mV"
   ]
  },
  {
   "cell_type": "code",
   "execution_count": 4,
   "metadata": {},
   "outputs": [],
   "source": [
    "w = 0.5 #mm\n",
    "x = 2 #mm\n",
    "I = 5 #mA"
   ]
  },
  {
   "cell_type": "code",
   "execution_count": 5,
   "metadata": {},
   "outputs": [],
   "source": [
    "def Resistivity(v,i):\n",
    "    return (v/i)*(2*np.pi*x)* 10**(-3) #Ohm*m\n",
    "    "
   ]
  },
  {
   "cell_type": "code",
   "execution_count": 6,
   "metadata": {},
   "outputs": [],
   "source": [
    "rho = []"
   ]
  },
  {
   "cell_type": "code",
   "execution_count": 7,
   "metadata": {},
   "outputs": [],
   "source": [
    "for v in V:\n",
    "    \n",
    "    rho.append(Resistivity(v,I))"
   ]
  },
  {
   "cell_type": "code",
   "execution_count": 8,
   "metadata": {},
   "outputs": [
    {
     "data": {
      "text/plain": [
       "[1.0455220351146832,\n",
       " 1.0379822127460676,\n",
       " 0.9952565526572466,\n",
       " 0.9424777960769379,\n",
       " 0.8721061206365266,\n",
       " 0.7967078969503715,\n",
       " 0.7162831250184728,\n",
       " 0.6358583530865742,\n",
       " 0.562973403523291,\n",
       " 0.4951150022057514,\n",
       " 0.43228314913395555,\n",
       " 0.37699111843077515,\n",
       " 0.3292389100962103,\n",
       " 0.28651325000738914,\n",
       " 0.25132741228718347,\n",
       " 0.22116812281272147,\n",
       " 0.19352210746113127,\n",
       " 0.17090264035528474,\n",
       " 0.14828317324943827,\n",
       " 0.1332035285122072,\n",
       " 0.11812388377497622,\n",
       " 0.10555751316061705,\n",
       " 0.09299114254625789,\n",
       " 0.08293804605477054]"
      ]
     },
     "execution_count": 8,
     "metadata": {},
     "output_type": "execute_result"
    }
   ],
   "source": [
    "rho"
   ]
  },
  {
   "cell_type": "code",
   "execution_count": 9,
   "metadata": {},
   "outputs": [],
   "source": [
    "lnrh =np.log10(rho)"
   ]
  },
  {
   "cell_type": "code",
   "execution_count": 10,
   "metadata": {},
   "outputs": [
    {
     "name": "stdout",
     "output_type": "stream",
     "text": [
      "[ 0.01933319  0.01618991 -0.00206495 -0.02572887 -0.05943067 -0.09870088\n",
      " -0.14491528 -0.19663962 -0.24951212 -0.30529391 -0.36423169 -0.42366888\n",
      " -0.48248884 -0.54285529 -0.59976014 -0.65527747 -0.71326942 -0.76725123\n",
      " -0.82890813 -0.87548427 -0.92766228 -0.97651085 -1.03155842 -1.0812462 ]\n"
     ]
    }
   ],
   "source": [
    "print(lnrh)"
   ]
  },
  {
   "cell_type": "code",
   "execution_count": 11,
   "metadata": {},
   "outputs": [
    {
     "data": {
      "text/plain": [
       "[<matplotlib.lines.Line2D at 0x7f5af9ad2910>]"
      ]
     },
     "execution_count": 11,
     "metadata": {},
     "output_type": "execute_result"
    },
    {
     "data": {
      "image/png": "[encoded data removed]",
      "text/plain": [
       "<Figure size 432x288 with 1 Axes>"
      ]
     },
     "metadata": {
      "needs_background": "light"
     },
     "output_type": "display_data"
    }
   ],
   "source": [
    "plt.plot(1/(Temp+273),np.log(rho))"
   ]
  },
  {
   "cell_type": "code",
   "execution_count": 12,
   "metadata": {},
   "outputs": [],
   "source": [
    "wbyx = np.array([0.100,0.141,0.200,0.33,0.500,1.00,1.414,2.00,3.333,5.000,10.000])"
   ]
  },
  {
   "cell_type": "code",
   "execution_count": 13,
   "metadata": {},
   "outputs": [
    {
     "data": {
      "text/plain": [
       "array([ 0.1  ,  0.141,  0.2  ,  0.33 ,  0.5  ,  1.   ,  1.414,  2.   ,\n",
       "        3.333,  5.   , 10.   ])"
      ]
     },
     "execution_count": 13,
     "metadata": {},
     "output_type": "execute_result"
    }
   ],
   "source": [
    "wbyx"
   ]
  },
  {
   "cell_type": "code",
   "execution_count": 14,
   "metadata": {},
   "outputs": [],
   "source": [
    "f2 = [13.863,9.704,6.931,4.159,2.780,1.504,1.223,1.094,1.0228,1.0070,1.00045]"
   ]
  },
  {
   "cell_type": "code",
   "execution_count": 15,
   "metadata": {},
   "outputs": [
    {
     "data": {
      "text/plain": [
       "(1.0, 10.0)"
      ]
     },
     "execution_count": 15,
     "metadata": {},
     "output_type": "execute_result"
    },
    {
     "data": {
      "image/png": "[encoded data removed]",
      "text/plain": [
       "<Figure size 432x288 with 1 Axes>"
      ]
     },
     "metadata": {
      "needs_background": "light"
     },
     "output_type": "display_data"
    }
   ],
   "source": [
    "plt.plot(wbyx,f2)\n",
    "plt.grid()\n",
    "plt.xlim(0.1,10)\n",
    "plt.ylim(1.0,10)"
   ]
  },
  {
   "cell_type": "code",
   "execution_count": 16,
   "metadata": {},
   "outputs": [],
   "source": [
    "def func(x, a):\n",
    "    return a/x"
   ]
  },
  {
   "cell_type": "code",
   "execution_count": 17,
   "metadata": {},
   "outputs": [
    {
     "data": {
      "text/plain": [
       "[<matplotlib.lines.Line2D at 0x7f5af7946550>]"
      ]
     },
     "execution_count": 17,
     "metadata": {},
     "output_type": "execute_result"
    },
    {
     "data": {
      "image/png": "[encoded data removed]",
      "text/plain": [
       "<Figure size 432x288 with 1 Axes>"
      ]
     },
     "metadata": {
      "needs_background": "light"
     },
     "output_type": "display_data"
    }
   ],
   "source": [
    "xdata = np.linspace(0.1, 4, 50)\n",
    "y = func(xdata, 2.5)\n",
    "plt.plot(xdata,y)"
   ]
  },
  {
   "cell_type": "code",
   "execution_count": 18,
   "metadata": {},
   "outputs": [],
   "source": [
    "from scipy.optimize import curve_fit"
   ]
  },
  {
   "cell_type": "code",
   "execution_count": 19,
   "metadata": {},
   "outputs": [],
   "source": [
    "popt, pcov = curve_fit(func, wbyx,f2)"
   ]
  },
  {
   "cell_type": "code",
   "execution_count": 20,
   "metadata": {},
   "outputs": [
    {
     "data": {
      "text/plain": [
       "1.3856801688475529"
      ]
     },
     "execution_count": 20,
     "metadata": {},
     "output_type": "execute_result"
    }
   ],
   "source": [
    "popt[0]"
   ]
  },
  {
   "cell_type": "code",
   "execution_count": 21,
   "metadata": {},
   "outputs": [
    {
     "name": "stderr",
     "output_type": "stream",
     "text": [
      "findfont: Font family ['serif'] not found. Falling back to DejaVu Sans.\n"
     ]
    },
    {
     "data": {
      "image/png": "[encoded data removed]",
      "text/plain": [
       "<Figure size 576x432 with 1 Axes>"
      ]
     },
     "metadata": {
      "needs_background": "light"
     },
     "output_type": "display_data"
    }
   ],
   "source": [
    "plt.figure(figsize=(8,6))\n",
    "plt.style.use('science')\n",
    "xdata = np.linspace(0.1,10, 500)\n",
    "y = func(xdata, popt[0])\n",
    "plt.plot(xdata,y,label=\"y = %.2f/x\"%(popt[0]))\n",
    "plt.plot(wbyx,f2,\"ro\")\n",
    "\n",
    "plt.xlabel(\"$w/x$\",fontsize=20)\n",
    "plt.ylabel(\"$f_2 (w/x)$\",fontsize=20)\n",
    "plt.title(\"The fit for f2(w/x)\")\n",
    "plt.legend()\n",
    "plt.grid()\n",
    "plt.savefig(\"fitforf2.pdf\")"
   ]
  },
  {
   "cell_type": "code",
   "execution_count": 22,
   "metadata": {},
   "outputs": [],
   "source": [
    "f2corr = func(0.25,popt[0])"
   ]
  },
  {
   "cell_type": "code",
   "execution_count": 36,
   "metadata": {},
   "outputs": [
    {
     "data": {
      "text/plain": [
       "5.542720675390211"
      ]
     },
     "execution_count": 36,
     "metadata": {},
     "output_type": "execute_result"
    }
   ],
   "source": [
    "f2corr"
   ]
  },
  {
   "cell_type": "code",
   "execution_count": 23,
   "metadata": {},
   "outputs": [],
   "source": [
    "T = Temp + 273.15\n",
    "rhoc = rho/f2corr\n",
    "\n",
    "\n",
    "Tinv = 1/T\n",
    "lnrho = np.log(rhoc)"
   ]
  },
  {
   "cell_type": "code",
   "execution_count": 24,
   "metadata": {},
   "outputs": [
    {
     "data": {
      "text/plain": [
       "array([0.0033206 , 0.0032987 , 0.00324517, 0.00319336, 0.00314317,\n",
       "       0.00309454, 0.00304739, 0.00300165, 0.00295727, 0.00291418,\n",
       "       0.00287233, 0.00283166, 0.00279213, 0.00275368, 0.00271628,\n",
       "       0.00267989, 0.00264445, 0.00260994, 0.00257632, 0.00254356,\n",
       "       0.00251162, 0.00248047, 0.00245008, 0.00242043])"
      ]
     },
     "execution_count": 24,
     "metadata": {},
     "output_type": "execute_result"
    }
   ],
   "source": [
    "Tinv"
   ]
  },
  {
   "cell_type": "code",
   "execution_count": 25,
   "metadata": {},
   "outputs": [
    {
     "data": {
      "image/png": "[encoded data removed]",
      "text/plain": [
       "<Figure size 576x432 with 1 Axes>"
      ]
     },
     "metadata": {
      "needs_background": "light"
     },
     "output_type": "display_data"
    }
   ],
   "source": [
    "plt.figure(figsize=(8,6))\n",
    "plt.plot(T,rhoc,c=\"g\")\n",
    "plt.grid()\n",
    "plt.xlabel(\"$T (K)$\",fontsize=20)\n",
    "plt.ylabel(\"$\\\\rho$\",fontsize=20)\n",
    "plt.title(\"Resistivity vs Temperature\",fontsize=20)\n",
    "plt.savefig(\"resvst.pdf\")"
   ]
  },
  {
   "cell_type": "code",
   "execution_count": 26,
   "metadata": {},
   "outputs": [
    {
     "data": {
      "text/plain": [
       "24"
      ]
     },
     "execution_count": 26,
     "metadata": {},
     "output_type": "execute_result"
    }
   ],
   "source": [
    "len(Tinv)"
   ]
  },
  {
   "cell_type": "code",
   "execution_count": 27,
   "metadata": {},
   "outputs": [
    {
     "data": {
      "text/plain": [
       "[<matplotlib.lines.Line2D at 0x7f5b2ce59990>]"
      ]
     },
     "execution_count": 27,
     "metadata": {},
     "output_type": "execute_result"
    },
    {
     "data": {
      "image/png": "[encoded data removed]",
      "text/plain": [
       "<Figure size 252x189 with 1 Axes>"
      ]
     },
     "metadata": {
      "needs_background": "light"
     },
     "output_type": "display_data"
    }
   ],
   "source": [
    "plt.plot(Tinv[6:24],lnrho[6:24],\"ro\")"
   ]
  },
  {
   "cell_type": "code",
   "execution_count": 28,
   "metadata": {},
   "outputs": [],
   "source": [
    "def straight(x,m,c):\n",
    "    return m*x+c"
   ]
  },
  {
   "cell_type": "code",
   "execution_count": 29,
   "metadata": {},
   "outputs": [],
   "source": [
    "popt, pcov = curve_fit(straight,Tinv[6:24],lnrho[6:24])"
   ]
  },
  {
   "cell_type": "code",
   "execution_count": 30,
   "metadata": {},
   "outputs": [
    {
     "data": {
      "text/plain": [
       "array([3495.77735333,  -12.61900898])"
      ]
     },
     "execution_count": 30,
     "metadata": {},
     "output_type": "execute_result"
    }
   ],
   "source": [
    "popt"
   ]
  },
  {
   "cell_type": "code",
   "execution_count": 31,
   "metadata": {},
   "outputs": [
    {
     "data": {
      "image/png": "[encoded data removed]",
      "text/plain": [
       "<Figure size 576x432 with 1 Axes>"
      ]
     },
     "metadata": {
      "needs_background": "light"
     },
     "output_type": "display_data"
    }
   ],
   "source": [
    "plt.figure(figsize=(8,6))\n",
    "x = np.linspace(2.0,4,100)*10**(-3)\n",
    "\n",
    "y = straight(x,popt[0],popt[1])\n",
    "\n",
    "plt.plot(x,y)\n",
    "plt.plot(Tinv,lnrho,\"ro\")\n",
    "plt.grid()\n",
    "plt.xlim(0.0024,0.0035)\n",
    "plt.xlabel(\"$T^{-1} (K)$\",fontsize=20)\n",
    "plt.ylabel(\"$ln\\\\rho$\",fontsize=20)\n",
    "plt.title(\"log resistivity vs Temperature\",fontsize=20)\n",
    "plt.savefig(\"logresvst.pdf\")"
   ]
  },
  {
   "cell_type": "code",
   "execution_count": 32,
   "metadata": {},
   "outputs": [],
   "source": [
    "k = (8.617) * 10**(-5)\n",
    "\n",
    "E =popt[0] * 2*k "
   ]
  },
  {
   "cell_type": "code",
   "execution_count": 33,
   "metadata": {},
   "outputs": [
    {
     "data": {
      "text/plain": [
       "[<matplotlib.lines.Line2D at 0x7f5af01e8dd0>]"
      ]
     },
     "execution_count": 33,
     "metadata": {},
     "output_type": "execute_result"
    },
    {
     "data": {
      "image/png": "[encoded data removed]",
      "text/plain": [
       "<Figure size 252x189 with 1 Axes>"
      ]
     },
     "metadata": {
      "needs_background": "light"
     },
     "output_type": "display_data"
    }
   ],
   "source": [
    "r= np.exp(popt[1]) * np.exp(popt[0]*Tinv)\n",
    "\n",
    "plt.plot(T,r)"
   ]
  },
  {
   "cell_type": "code",
   "execution_count": 34,
   "metadata": {},
   "outputs": [
    {
     "data": {
      "image/png": "[encoded data removed]",
      "text/plain": [
       "<Figure size 576x432 with 1 Axes>"
      ]
     },
     "metadata": {
      "needs_background": "light"
     },
     "output_type": "display_data"
    }
   ],
   "source": [
    "plt.figure(figsize=(8,6))\n",
    "plt.plot(T,rhoc,\"g-\",label=\"The data\")\n",
    "plt.plot(T,r,\"r--\",label=\"Fit using the calculated slope\")\n",
    "plt.xlabel(\"$T (K)$\",fontsize=20)\n",
    "plt.ylabel(\"$\\\\rho$\",fontsize=20)\n",
    "plt.title(\"Resistivity vs Temperature\",fontsize=20)\n",
    "\n",
    "plt.legend()\n",
    "plt.grid()\n",
    "plt.savefig(\"resvstcomp.pdf\")"
   ]
  },
  {
   "cell_type": "code",
   "execution_count": 37,
   "metadata": {},
   "outputs": [],
   "source": [
    "DE = np.mean(T*2*k* 0.01)"
   ]
  },
  {
   "cell_type": "code",
   "execution_count": 38,
   "metadata": {},
   "outputs": [
    {
     "data": {
      "text/plain": [
       "0.6024622690731598"
      ]
     },
     "execution_count": 38,
     "metadata": {},
     "output_type": "execute_result"
    }
   ],
   "source": [
    "E"
   ]
  },
  {
   "cell_type": "code",
   "execution_count": 39,
   "metadata": {},
   "outputs": [
    {
     "data": {
      "text/plain": [
       "0.10177278586147331"
      ]
     },
     "execution_count": 39,
     "metadata": {},
     "output_type": "execute_result"
    }
   ],
   "source": [
    "DE/E * 100"
   ]
  },
  {
   "cell_type": "code",
   "execution_count": 40,
   "metadata": {},
   "outputs": [
    {
     "data": {
      "text/plain": [
       "0.0006131426350000001"
      ]
     },
     "execution_count": 40,
     "metadata": {},
     "output_type": "execute_result"
    }
   ],
   "source": [
    "DE"
   ]
  },
  {
   "cell_type": "markdown",
   "metadata": {},
   "source": [
    "For a temperature range in the middle of Figure , the resistivity remained relatively constant while the material heats. This accounts for the additional charge carriers found in extrinsic semiconductors that have already decreased the resistivity of the semiconductor below the value for the intrinsic counterpart. During the region of temperatures when the resistivity is not changing, the number of electrons being thermally excited to the conduction band is not yet large enough to influence the resistivity as much as the extrinsic doping has. Eventually the number of excited electrons becomes great enough to resume the intrinsic temperature dependent trend."
   ]
  },
  {
   "cell_type": "code",
   "execution_count": null,
   "metadata": {},
   "outputs": [],
   "source": []
  }
 ],
 "metadata": {
  "kernelspec": {
   "display_name": "Python 3.7.7 64-bit ('base': conda)",
   "language": "python",
   "name": "python37764bitbaseconda781db70e088b4a4896d6b91912286919"
  },
  "language_info": {
   "codemirror_mode": {
    "name": "ipython",
    "version": 3
   },
   "file_extension": ".py",
   "mimetype": "text/x-python",
   "name": "python",
   "nbconvert_exporter": "python",
   "pygments_lexer": "ipython3",
   "version": "3.7.7"
  }
 },
 "nbformat": 4,
 "nbformat_minor": 4
}
