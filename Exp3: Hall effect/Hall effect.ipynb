{
 "cells": [
  {
   "cell_type": "code",
   "execution_count": 2,
   "metadata": {},
   "outputs": [],
   "source": [
    "import pandas as pd\n",
    "import numpy as np\n",
    "import matplotlib.pyplot as plt\n"
   ]
  },
  {
   "cell_type": "code",
   "execution_count": 3,
   "metadata": {},
   "outputs": [],
   "source": [
    "Data1 = pd.read_excel('HallcurrentBvV.xlsx')"
   ]
  },
  {
   "cell_type": "code",
   "execution_count": 4,
   "metadata": {},
   "outputs": [],
   "source": [
    "Icoil = Data1.iloc[:,0].values #A\n",
    "Bvalues = Data1.iloc[:,1].values #Gauss\n",
    "Vh = Data1.iloc[:,2].values #mV"
   ]
  },
  {
   "cell_type": "code",
   "execution_count": 5,
   "metadata": {},
   "outputs": [
    {
     "data": {
      "text/plain": [
       "array([0.  , 0.1 , 0.21, 0.3 , 0.4 , 0.5 , 0.6 , 0.71, 0.8 , 0.9 , 1.01,\n",
       "       1.11, 1.2 , 1.31, 1.43, 1.5 , 1.61, 1.7 , 1.8 , 1.9 , 2.  , 2.11,\n",
       "       2.2 , 2.3 , 2.4 , 2.5 , 2.6 , 2.71, 2.8 , 2.91, 3.01, 3.1 , 3.21,\n",
       "       3.31, 3.42, 3.51, 3.63, 3.71, 3.8 , 3.92, 4.  ])"
      ]
     },
     "execution_count": 5,
     "metadata": {},
     "output_type": "execute_result"
    }
   ],
   "source": [
    "Icoil"
   ]
  },
  {
   "cell_type": "code",
   "execution_count": 6,
   "metadata": {},
   "outputs": [
    {
     "data": {
      "text/plain": [
       "array([ 120.8,  230. ,  343. ,  429. ,  535. ,  637. ,  752. ,  863. ,\n",
       "        965. , 1077. , 1195. , 1302. , 1403. , 1519. , 1655. , 1726. ,\n",
       "       1848. , 1951. , 2030. , 2130. , 2230. , 2360. , 2460. , 2560. ,\n",
       "       2670. , 2770. , 2870. , 3000. , 3090. , 3200. , 3310. , 3400. ,\n",
       "       3510. , 3610. , 3730. , 3800. , 3920. , 4010. , 4090. , 4200. ,\n",
       "       4280. ])"
      ]
     },
     "execution_count": 6,
     "metadata": {},
     "output_type": "execute_result"
    }
   ],
   "source": [
    "Bvalues"
   ]
  },
  {
   "cell_type": "code",
   "execution_count": 7,
   "metadata": {},
   "outputs": [
    {
     "data": {
      "text/plain": [
       "array([ 0.13,  2.1 ,  3.9 ,  5.7 ,  7.6 ,  9.6 , 11.6 , 13.2 , 15.1 ,\n",
       "       16.9 , 18.8 , 20.7 , 22.4 , 24.3 , 26.1 , 28.1 , 29.5 , 31.3 ,\n",
       "       33.  , 34.7 , 36.4 , 37.9 , 39.6 , 41.  , 42.5 , 44.1 , 45.5 ,\n",
       "       46.9 , 48.4 , 49.8 , 51.1 , 52.4 , 53.7 , 55.  , 56.5 , 57.6 ,\n",
       "       58.8 , 59.9 , 61.1 , 62.1 , 63.5 ])"
      ]
     },
     "execution_count": 7,
     "metadata": {},
     "output_type": "execute_result"
    }
   ],
   "source": [
    "Vh"
   ]
  },
  {
   "cell_type": "code",
   "execution_count": 8,
   "metadata": {},
   "outputs": [],
   "source": [
    "Data2 = pd.read_excel('HallTvsVh.xlsx',skiprows=1)"
   ]
  },
  {
   "cell_type": "code",
   "execution_count": 9,
   "metadata": {},
   "outputs": [],
   "source": [
    "Temp = Data2.iloc[:,3].values #oC\n",
    "Vy = Data2.iloc[:,6].values"
   ]
  },
  {
   "cell_type": "code",
   "execution_count": 10,
   "metadata": {},
   "outputs": [
    {
     "data": {
      "text/plain": [
       "array([47.5, 47.5, 46.9, 45.3, 40.5, 33.8, 23.4, 16.4,  9.8,  3.7, -0.4,\n",
       "       -2. , -2.9])"
      ]
     },
     "execution_count": 10,
     "metadata": {},
     "output_type": "execute_result"
    }
   ],
   "source": [
    "Vy"
   ]
  },
  {
   "cell_type": "code",
   "execution_count": 12,
   "metadata": {},
   "outputs": [
    {
     "data": {
      "image/png": "[encoded data removed]",
      "text/plain": [
       "<Figure size 576x432 with 1 Axes>"
      ]
     },
     "metadata": {
      "needs_background": "light"
     },
     "output_type": "display_data"
    }
   ],
   "source": [
    "\n",
    "plt.figure(figsize=(8,6))\n",
    "plt.style.use('science')\n",
    "plt.plot(Bvalues/1000,Vh,\"k+\")\n",
    "plt.grid()\n",
    "plt.xlabel(\"Magnetic Field(KG)\")\n",
    "plt.ylabel(\"Hall Voltage (mV)\")\n",
    "plt.show()\n"
   ]
  },
  {
   "cell_type": "code",
   "execution_count": 13,
   "metadata": {},
   "outputs": [],
   "source": [
    "def straight(x,m):\n",
    "    return m*x"
   ]
  },
  {
   "cell_type": "code",
   "execution_count": 14,
   "metadata": {},
   "outputs": [],
   "source": [
    "from scipy.optimize import curve_fit"
   ]
  },
  {
   "cell_type": "code",
   "execution_count": 15,
   "metadata": {},
   "outputs": [],
   "source": [
    "popt, pcov = curve_fit(straight,Bvalues,Vh)"
   ]
  },
  {
   "cell_type": "code",
   "execution_count": 16,
   "metadata": {},
   "outputs": [
    {
     "data": {
      "text/plain": [
       "array([0.01539977])"
      ]
     },
     "execution_count": 16,
     "metadata": {},
     "output_type": "execute_result"
    }
   ],
   "source": [
    "popt"
   ]
  },
  {
   "cell_type": "code",
   "execution_count": 17,
   "metadata": {},
   "outputs": [
    {
     "data": {
      "text/plain": [
       "array([[6.11720527e-09]])"
      ]
     },
     "execution_count": 17,
     "metadata": {},
     "output_type": "execute_result"
    }
   ],
   "source": [
    "pcov"
   ]
  },
  {
   "cell_type": "code",
   "execution_count": 18,
   "metadata": {},
   "outputs": [
    {
     "data": {
      "text/plain": [
       "array([ 120.8,  230. ,  343. ,  429. ,  535. ,  637. ,  752. ,  863. ,\n",
       "        965. , 1077. , 1195. , 1302. , 1403. , 1519. , 1655. , 1726. ,\n",
       "       1848. , 1951. , 2030. , 2130. , 2230. , 2360. , 2460. , 2560. ,\n",
       "       2670. , 2770. , 2870. , 3000. , 3090. , 3200. , 3310. , 3400. ,\n",
       "       3510. , 3610. , 3730. , 3800. , 3920. , 4010. , 4090. , 4200. ,\n",
       "       4280. ])"
      ]
     },
     "execution_count": 18,
     "metadata": {},
     "output_type": "execute_result"
    }
   ],
   "source": [
    "Bvalues"
   ]
  },
  {
   "cell_type": "code",
   "execution_count": 59,
   "metadata": {},
   "outputs": [
    {
     "data": {
      "text/plain": [
       "array([ 0.13,  2.1 ,  3.9 ,  5.7 ,  7.6 ,  9.6 , 11.6 , 13.2 , 15.1 ,\n",
       "       16.9 , 18.8 , 20.7 , 22.4 , 24.3 , 26.1 , 28.1 , 29.5 , 31.3 ,\n",
       "       33.  , 34.7 , 36.4 , 37.9 , 39.6 , 41.  , 42.5 , 44.1 , 45.5 ,\n",
       "       46.9 , 48.4 , 49.8 , 51.1 , 52.4 , 53.7 , 55.  , 56.5 , 57.6 ,\n",
       "       58.8 , 59.9 , 61.1 , 62.1 , 63.5 ])"
      ]
     },
     "execution_count": 59,
     "metadata": {},
     "output_type": "execute_result"
    }
   ],
   "source": [
    "Vh"
   ]
  },
  {
   "cell_type": "code",
   "execution_count": 20,
   "metadata": {},
   "outputs": [],
   "source": [
    "yerr = straight(Bvalues,popt[0])-Vh"
   ]
  },
  {
   "cell_type": "code",
   "execution_count": 70,
   "metadata": {
    "scrolled": true
   },
   "outputs": [
    {
     "data": {
      "image/png": "[encoded data removed]",
      "text/plain": [
       "<Figure size 576x432 with 1 Axes>"
      ]
     },
     "metadata": {
      "needs_background": "light"
     },
     "output_type": "display_data"
    }
   ],
   "source": [
    "plt.figure(figsize=(8,6))\n",
    "plt.style.use('science')\n",
    "plt.plot(Bvalues,Vh,\"b+\",label=\"Data points\")\n",
    "xdata = np.linspace(100,5000,500)\n",
    "y = straight(xdata, popt[0])\n",
    "\n",
    "\n",
    "upperlimits = [True, False] * 5\n",
    "lowerlimits = [False, True] * 5\n",
    "\n",
    "plt.plot(Bvalues,straight(Bvalues,popt[0]),\"r-\",label=\"Straight line fit\")\n",
    "plt.errorbar(Bvalues,straight(Bvalues,popt[0]), yerr=yerr,c=\"r\")\n",
    "plt.xlabel(\"Magnetic Field(G)\")\n",
    "plt.ylabel(\"Hall Voltage(mV)\")\n",
    "\n",
    "plt.legend()\n",
    "plt.grid()\n",
    "plt.savefig(\"HallvoltagevsM.pdf\")\n"
   ]
  },
  {
   "cell_type": "code",
   "execution_count": 85,
   "metadata": {},
   "outputs": [
    {
     "data": {
      "text/plain": [
       "0.34390321838019833"
      ]
     },
     "execution_count": 85,
     "metadata": {},
     "output_type": "execute_result"
    }
   ],
   "source": [
    "np.mean(yerr/Vh)"
   ]
  },
  {
   "cell_type": "code",
   "execution_count": 100,
   "metadata": {},
   "outputs": [
    {
     "data": {
      "text/plain": [
       "-0.003614322333270515"
      ]
     },
     "execution_count": 100,
     "metadata": {},
     "output_type": "execute_result"
    }
   ],
   "source": [
    "np.mean(yerr)/np.mean(Vh)"
   ]
  },
  {
   "cell_type": "code",
   "execution_count": 97,
   "metadata": {},
   "outputs": [
    {
     "data": {
      "text/plain": [
       "1.113721"
      ]
     },
     "execution_count": 97,
     "metadata": {},
     "output_type": "execute_result"
    }
   ],
   "source": [
    "3.247*0.343"
   ]
  },
  {
   "cell_type": "code",
   "execution_count": 94,
   "metadata": {},
   "outputs": [
    {
     "data": {
      "text/plain": [
       "array([ 0.13,  2.1 ,  3.9 ,  5.7 ,  7.6 ,  9.6 , 11.6 , 13.2 , 15.1 ,\n",
       "       16.9 , 18.8 , 20.7 , 22.4 , 24.3 , 26.1 , 28.1 , 29.5 , 31.3 ,\n",
       "       33.  , 34.7 , 36.4 , 37.9 , 39.6 , 41.  , 42.5 , 44.1 , 45.5 ,\n",
       "       46.9 , 48.4 , 49.8 , 51.1 , 52.4 , 53.7 , 55.  , 56.5 , 57.6 ,\n",
       "       58.8 , 59.9 , 61.1 , 62.1 , 63.5 ])"
      ]
     },
     "execution_count": 94,
     "metadata": {},
     "output_type": "execute_result"
    }
   ],
   "source": [
    "Vh"
   ]
  },
  {
   "cell_type": "code",
   "execution_count": 93,
   "metadata": {},
   "outputs": [
    {
     "data": {
      "text/plain": [
       "array([ 1.73029191,  1.44194651,  1.38212023,  0.90650023,  0.63887558,\n",
       "        0.20965186, -0.01937489,  0.0899993 , -0.23922442, -0.31445047,\n",
       "       -0.39727791, -0.64950279, -0.79412628, -0.90775326, -0.61338489,\n",
       "       -1.5200014 , -1.04122977, -1.25505373, -1.7384721 , -1.89849536,\n",
       "       -2.05851861, -1.55654884, -1.7165721 , -1.57659536, -1.38262094,\n",
       "       -1.44264419, -1.30266745, -0.70069768, -0.81471861, -0.5207442 ,\n",
       "       -0.12676978, -0.04079071,  0.35318371,  0.59316045,  0.94113255,\n",
       "        0.91911627,  1.56708836,  1.85306743,  1.88504882,  2.57902324,\n",
       "        2.41100464])"
      ]
     },
     "execution_count": 93,
     "metadata": {},
     "output_type": "execute_result"
    }
   ],
   "source": [
    "yerr"
   ]
  },
  {
   "cell_type": "code",
   "execution_count": 92,
   "metadata": {},
   "outputs": [
    {
     "data": {
      "text/plain": [
       "array([ 1.33099377e+01,  6.86641196e-01,  3.54389803e-01,  1.59035128e-01,\n",
       "        8.40625763e-02,  2.18387353e-02, -1.67024880e-03,  6.81812876e-03,\n",
       "       -1.58426769e-02, -1.86065366e-02, -2.11318038e-02, -3.13769466e-02,\n",
       "       -3.54520662e-02, -3.73561013e-02, -2.35013367e-02, -5.40925765e-02,\n",
       "       -3.52959245e-02, -4.00975632e-02, -5.26809727e-02, -5.47116817e-02,\n",
       "       -5.65527091e-02, -4.10698904e-02, -4.33477803e-02, -3.84535453e-02,\n",
       "       -3.25322574e-02, -3.27130203e-02, -2.86300539e-02, -1.49402491e-02,\n",
       "       -1.68330292e-02, -1.04567108e-02, -2.48081757e-03, -7.78448632e-04,\n",
       "        6.57697784e-03,  1.07847355e-02,  1.66572132e-02,  1.59568796e-02,\n",
       "        2.66511626e-02,  3.09360172e-02,  3.08518629e-02,  4.15301649e-02,\n",
       "        3.79685770e-02])"
      ]
     },
     "execution_count": 92,
     "metadata": {},
     "output_type": "execute_result"
    }
   ],
   "source": [
    "yerr/Vh"
   ]
  },
  {
   "cell_type": "code",
   "execution_count": 89,
   "metadata": {},
   "outputs": [
    {
     "data": {
      "text/plain": [
       "0.006619975027724037"
      ]
     },
     "execution_count": 89,
     "metadata": {},
     "output_type": "execute_result"
    }
   ],
   "source": [
    "0.3439*RH"
   ]
  },
  {
   "cell_type": "code",
   "execution_count": 91,
   "metadata": {},
   "outputs": [
    {
     "data": {
      "text/plain": [
       "1.1166433000000001e+20"
      ]
     },
     "execution_count": 91,
     "metadata": {},
     "output_type": "execute_result"
    }
   ],
   "source": [
    "0.3439*3.247*10**(20)"
   ]
  },
  {
   "cell_type": "code",
   "execution_count": 24,
   "metadata": {},
   "outputs": [],
   "source": [
    "slope = popt[0]*(10**(-3)/10**(-4))"
   ]
  },
  {
   "cell_type": "code",
   "execution_count": 76,
   "metadata": {},
   "outputs": [
    {
     "data": {
      "text/plain": [
       "array([6.11720527e-08])"
      ]
     },
     "execution_count": 76,
     "metadata": {},
     "output_type": "execute_result"
    }
   ],
   "source": [
    "pcov[0]*(10**(-3)/10**(-4))"
   ]
  },
  {
   "cell_type": "code",
   "execution_count": 77,
   "metadata": {},
   "outputs": [
    {
     "data": {
      "text/plain": [
       "0.1539976743872995"
      ]
     },
     "execution_count": 77,
     "metadata": {},
     "output_type": "execute_result"
    }
   ],
   "source": [
    "slope "
   ]
  },
  {
   "cell_type": "code",
   "execution_count": 30,
   "metadata": {},
   "outputs": [],
   "source": [
    "t = 0.5 *10**(-3) #mm\n",
    "I = 4 * 10**(-3) #mA"
   ]
  },
  {
   "cell_type": "code",
   "execution_count": 33,
   "metadata": {},
   "outputs": [],
   "source": [
    "RH = slope * t/I #m^3/C"
   ]
  },
  {
   "cell_type": "code",
   "execution_count": 82,
   "metadata": {},
   "outputs": [
    {
     "data": {
      "text/plain": [
       "324680227795203.6"
      ]
     },
     "execution_count": 82,
     "metadata": {},
     "output_type": "execute_result"
    }
   ],
   "source": [
    "1/(RH *1.6 *10**(-19)) * 10**(-6)"
   ]
  },
  {
   "cell_type": "code",
   "execution_count": null,
   "metadata": {},
   "outputs": [],
   "source": []
  },
  {
   "cell_type": "code",
   "execution_count": 81,
   "metadata": {},
   "outputs": [
    {
     "data": {
      "text/plain": [
       "0.019249709298412437"
      ]
     },
     "execution_count": 81,
     "metadata": {},
     "output_type": "execute_result"
    }
   ],
   "source": [
    "RH"
   ]
  },
  {
   "cell_type": "code",
   "execution_count": 40,
   "metadata": {
    "collapsed": true
   },
   "outputs": [
    {
     "data": {
      "image/png": "[encoded data removed]",
      "text/plain": [
       "<Figure size 576x432 with 1 Axes>"
      ]
     },
     "metadata": {
      "needs_background": "light"
     },
     "output_type": "display_data"
    }
   ],
   "source": [
    "plt.figure(figsize=(8,6))\n",
    "plt.style.use('science')\n",
    "plt.plot(Temp,Vy)\n",
    "plt.grid()\n",
    "plt.axhline(0,ls=\"--\",c=\"r\")\n",
    "plt.xlabel(\"Temperature ($^{\\circ} C$)\")\n",
    "plt.ylabel(\"Corrected Hall Voltage (mV)\")\n",
    "plt.show()"
   ]
  },
  {
   "cell_type": "code",
   "execution_count": 41,
   "metadata": {},
   "outputs": [],
   "source": [
    "H = 3 * 10**3 * 10**(-4) #T\n",
    "I = 4 * 10**(-3) #A\n",
    "t = 0.5 *10**(-3) #mm"
   ]
  },
  {
   "cell_type": "code",
   "execution_count": 44,
   "metadata": {},
   "outputs": [],
   "source": [
    "Rhvalues = (Vy*10**(-3))*t/(I*H)"
   ]
  },
  {
   "cell_type": "code",
   "execution_count": 45,
   "metadata": {},
   "outputs": [
    {
     "data": {
      "text/plain": [
       "array([ 0.01979167,  0.01979167,  0.01954167,  0.018875  ,  0.016875  ,\n",
       "        0.01408333,  0.00975   ,  0.00683333,  0.00408333,  0.00154167,\n",
       "       -0.00016667, -0.00083333, -0.00120833])"
      ]
     },
     "execution_count": 45,
     "metadata": {},
     "output_type": "execute_result"
    }
   ],
   "source": [
    "Rhvalues"
   ]
  },
  {
   "cell_type": "code",
   "execution_count": 48,
   "metadata": {
    "collapsed": true
   },
   "outputs": [
    {
     "data": {
      "image/png": "[encoded data removed]",
      "text/plain": [
       "<Figure size 576x432 with 1 Axes>"
      ]
     },
     "metadata": {
      "needs_background": "light"
     },
     "output_type": "display_data"
    }
   ],
   "source": [
    "plt.figure(figsize=(8,6))\n",
    "plt.style.use('science')\n",
    "plt.plot(Temp,Rhvalues)\n",
    "plt.grid()\n",
    "plt.axhline(0,ls=\"--\",c=\"r\")\n",
    "plt.xlabel(\"Temperature ($^{\\circ} c$)\")\n",
    "plt.ylabel(\"Hall Coefficient ($m^3 C^{-1}$)\")\n",
    "plt.show()"
   ]
  },
  {
   "cell_type": "code",
   "execution_count": 52,
   "metadata": {},
   "outputs": [],
   "source": [
    "Rhv = Rhvalues*1000"
   ]
  },
  {
   "cell_type": "code",
   "execution_count": 58,
   "metadata": {
    "collapsed": true
   },
   "outputs": [
    {
     "data": {
      "image/png": "[encoded data removed]",
      "text/plain": [
       "<Figure size 576x432 with 1 Axes>"
      ]
     },
     "metadata": {
      "needs_background": "light"
     },
     "output_type": "display_data"
    }
   ],
   "source": [
    "plt.figure(figsize=(8,6))\n",
    "plt.style.use('science')\n",
    "plt.plot(Temp,Rhv)\n",
    "plt.plot(Temp,Rhv,\"r+\")\n",
    "plt.grid()\n",
    "plt.axhline(0,ls=\"--\",c=\"k\")\n",
    "plt.xlabel(\"Temperature ($^{\\circ} c$)\")\n",
    "plt.ylabel(\"Hall Coefficient ($10^3 cm^3 C^{-1}$)\")\n",
    "plt.savefig(\"RhvsT.pdf\")\n",
    "plt.show()"
   ]
  },
  {
   "cell_type": "code",
   "execution_count": 74,
   "metadata": {},
   "outputs": [
    {
     "name": "stdout",
     "output_type": "stream",
     "text": [
      "19.791666666666668\n",
      "19.791666666666668\n",
      "19.541666666666668\n",
      "18.875000000000004\n",
      "16.875\n",
      "14.083333333333334\n",
      "9.75\n",
      "6.833333333333334\n",
      "4.083333333333334\n",
      "1.541666666666667\n",
      "-0.16666666666666669\n",
      "-0.8333333333333334\n",
      "-1.2083333333333335\n"
     ]
    }
   ],
   "source": [
    "for i in Rhv:\n",
    "    print(i)"
   ]
  },
  {
   "cell_type": "code",
   "execution_count": null,
   "metadata": {},
   "outputs": [],
   "source": []
  }
 ],
 "metadata": {
  "kernelspec": {
   "display_name": "Python 3.7.7 64-bit ('base': conda)",
   "language": "python",
   "name": "python37764bitbaseconda781db70e088b4a4896d6b91912286919"
  },
  "language_info": {
   "codemirror_mode": {
    "name": "ipython",
    "version": 3
   },
   "file_extension": ".py",
   "mimetype": "text/x-python",
   "name": "python",
   "nbconvert_exporter": "python",
   "pygments_lexer": "ipython3",
   "version": "3.7.7"
  }
 },
 "nbformat": 4,
 "nbformat_minor": 4
}
